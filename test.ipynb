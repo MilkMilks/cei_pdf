{
 "cells": [
  {
   "cell_type": "code",
   "execution_count": 1,
   "metadata": {},
   "outputs": [],
   "source": [
    "import tabula\n",
    "\n",
    "pdf_path = \"./pdfs/2011.pdf\"\n",
    "\n",
    "# Read PDF and extract tables from pages 26 to 41\n",
    "tables = tabula.read_pdf(pdf_path, pages='40-65', multiple_tables=True, stream=False)\n",
    "\n",
    "# Save tables to a text file\n",
    "output_file = \"./2011.txt\"\n",
    "with open(output_file, 'w') as file:\n",
    "    for table in tables:\n",
    "        for row in table.itertuples(index=False):\n",
    "            cleaned_row = []\n",
    "            for cell in row:\n",
    "                if isinstance(cell, str):\n",
    "                    cleaned_cell = ' '.join(cell.split())\n",
    "                    cleaned_row.append(cleaned_cell)\n",
    "                else:\n",
    "                    cleaned_row.append(cell)\n",
    "            file.write('\\t'.join(map(str, cleaned_row)) + '\\n')\n"
   ]
  },
  {
   "cell_type": "code",
   "execution_count": 10,
   "metadata": {},
   "outputs": [],
   "source": [
    "import re\n",
    "import tabula\n",
    "\n",
    "pdf_path = \"./pdfs/2002.pdf\"\n",
    "\n",
    "# Read PDF and extract tables from pages 26 to 41\n",
    "tables = tabula.read_pdf(pdf_path, pages='53-72', multiple_tables=True, stream=False)\n",
    "\n",
    "# Save tables to a text file\n",
    "output_file = \"./2002.txt\"\n",
    "with open(output_file, 'w', encoding='utf-8') as file:\n",
    "    for table in tables:\n",
    "        for row in table.itertuples(index=False):\n",
    "            cleaned_row = []\n",
    "            for cell in row:\n",
    "                if isinstance(cell, str):\n",
    "                    cleaned_cell = ' '.join(cell.split())\n",
    "                    cleaned_row.append(cleaned_cell)\n",
    "                else:\n",
    "                    cleaned_row.append(cell)\n",
    "            csv_contents = '\\t'.join(map(str, cleaned_row)) + '\\n'\n",
    "            \n",
    "            # Apply regex pattern to each row\n",
    "            pattern = r'^(.*?),\"([^\"]+)\",.*?,((?:\\d+\\.?\\d*|),(?:\\d+\\.?\\d*|),(?:\\d+\\.?\\d*|),)'\n",
    "            matches = re.findall(pattern, csv_contents, re.MULTILINE)\n",
    "            \n",
    "            if matches:\n",
    "                # If matches are found, write them to the file\n",
    "                for match in matches:\n",
    "                    file.write('\\t'.join(match) + '\\n')\n",
    "            else:\n",
    "                # If no matches are found, write the original row to the file\n",
    "                file.write(csv_contents)\n"
   ]
  }
 ],
 "metadata": {
  "kernelspec": {
   "display_name": "Python 3",
   "language": "python",
   "name": "python3"
  },
  "language_info": {
   "codemirror_mode": {
    "name": "ipython",
    "version": 3
   },
   "file_extension": ".py",
   "mimetype": "text/x-python",
   "name": "python",
   "nbconvert_exporter": "python",
   "pygments_lexer": "ipython3",
   "version": "3.10.4"
  },
  "orig_nbformat": 4
 },
 "nbformat": 4,
 "nbformat_minor": 2
}
