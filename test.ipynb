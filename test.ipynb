{
 "cells": [
  {
   "cell_type": "code",
   "execution_count": 1,
   "metadata": {},
   "outputs": [],
   "source": [
    "import tabula\n",
    "\n",
    "pdf_path = \"./pdfs/2011.pdf\"\n",
    "\n",
    "# Read PDF and extract tables from pages 26 to 41\n",
    "tables = tabula.read_pdf(pdf_path, pages='40-65', multiple_tables=True, stream=False)\n",
    "\n",
    "# Save tables to a text file\n",
    "output_file = \"./2011.txt\"\n",
    "with open(output_file, 'w') as file:\n",
    "    for table in tables:\n",
    "        for row in table.itertuples(index=False):\n",
    "            cleaned_row = []\n",
    "            for cell in row:\n",
    "                if isinstance(cell, str):\n",
    "                    cleaned_cell = ' '.join(cell.split())\n",
    "                    cleaned_row.append(cleaned_cell)\n",
    "                else:\n",
    "                    cleaned_row.append(cell)\n",
    "            file.write('\\t'.join(map(str, cleaned_row)) + '\\n')\n"
   ]
  },
  {
   "cell_type": "code",
   "execution_count": 11,
   "metadata": {},
   "outputs": [
    {
     "name": "stderr",
     "output_type": "stream",
     "text": [
      "Error from tabula-java:\n",
      "Exception in thread \"main\" java.lang.IndexOutOfBoundsException: Page number does not exist.\n",
      "\tat technology.tabula.ObjectExtractor.extractPage(ObjectExtractor.java:19)\n",
      "\tat technology.tabula.PageIterator.next(PageIterator.java:30)\n",
      "\tat technology.tabula.CommandLineApp.extractFile(CommandLineApp.java:161)\n",
      "\tat technology.tabula.CommandLineApp.extractFileTables(CommandLineApp.java:124)\n",
      "\tat technology.tabula.CommandLineApp.extractTables(CommandLineApp.java:106)\n",
      "\tat technology.tabula.CommandLineApp.main(CommandLineApp.java:76)\n",
      "\n",
      "\n"
     ]
    },
    {
     "ename": "CalledProcessError",
     "evalue": "Command '['java', '-Dfile.encoding=UTF8', '-jar', 'c:\\\\Users\\\\evan\\\\AppData\\\\Local\\\\Programs\\\\Python\\\\Python310\\\\lib\\\\site-packages\\\\tabula\\\\tabula-1.0.5-jar-with-dependencies.jar', '--pages', '53-72', '--guess', '--format', 'JSON', './pdfs/2002.pdf']' returned non-zero exit status 1.",
     "output_type": "error",
     "traceback": [
      "\u001b[1;31m---------------------------------------------------------------------------\u001b[0m",
      "\u001b[1;31mCalledProcessError\u001b[0m                        Traceback (most recent call last)",
      "\u001b[1;32mt:\\code_2023\\wouter_pdf\\test.ipynb Cell 2\u001b[0m in \u001b[0;36m<module>\u001b[1;34m\u001b[0m\n\u001b[0;32m      <a href='vscode-notebook-cell:/t%3A/code_2023/wouter_pdf/test.ipynb#W1sZmlsZQ%3D%3D?line=3'>4</a>\u001b[0m pdf_path \u001b[39m=\u001b[39m \u001b[39m\"\u001b[39m\u001b[39m./pdfs/2002.pdf\u001b[39m\u001b[39m\"\u001b[39m\n\u001b[0;32m      <a href='vscode-notebook-cell:/t%3A/code_2023/wouter_pdf/test.ipynb#W1sZmlsZQ%3D%3D?line=5'>6</a>\u001b[0m \u001b[39m# Read PDF and extract tables from pages 26 to 41\u001b[39;00m\n\u001b[1;32m----> <a href='vscode-notebook-cell:/t%3A/code_2023/wouter_pdf/test.ipynb#W1sZmlsZQ%3D%3D?line=6'>7</a>\u001b[0m tables \u001b[39m=\u001b[39m tabula\u001b[39m.\u001b[39;49mread_pdf(pdf_path, pages\u001b[39m=\u001b[39;49m\u001b[39m'\u001b[39;49m\u001b[39m53-72\u001b[39;49m\u001b[39m'\u001b[39;49m, multiple_tables\u001b[39m=\u001b[39;49m\u001b[39mTrue\u001b[39;49;00m, stream\u001b[39m=\u001b[39;49m\u001b[39mFalse\u001b[39;49;00m)\n\u001b[0;32m      <a href='vscode-notebook-cell:/t%3A/code_2023/wouter_pdf/test.ipynb#W1sZmlsZQ%3D%3D?line=8'>9</a>\u001b[0m \u001b[39m# Save tables to a text file\u001b[39;00m\n\u001b[0;32m     <a href='vscode-notebook-cell:/t%3A/code_2023/wouter_pdf/test.ipynb#W1sZmlsZQ%3D%3D?line=9'>10</a>\u001b[0m output_file \u001b[39m=\u001b[39m \u001b[39m\"\u001b[39m\u001b[39m./2002.txt\u001b[39m\u001b[39m\"\u001b[39m\n",
      "File \u001b[1;32mc:\\Users\\evan\\AppData\\Local\\Programs\\Python\\Python310\\lib\\site-packages\\tabula\\io.py:425\u001b[0m, in \u001b[0;36mread_pdf\u001b[1;34m(input_path, output_format, encoding, java_options, pandas_options, multiple_tables, user_agent, use_raw_url, pages, guess, area, relative_area, lattice, stream, password, silent, columns, relative_columns, format, batch, output_path, options)\u001b[0m\n\u001b[0;32m    422\u001b[0m     \u001b[39mraise\u001b[39;00m \u001b[39mValueError\u001b[39;00m(\u001b[39mf\u001b[39m\u001b[39m\"\u001b[39m\u001b[39m{\u001b[39;00mpath\u001b[39m}\u001b[39;00m\u001b[39m is empty. Check the file, or download it manually.\u001b[39m\u001b[39m\"\u001b[39m)\n\u001b[0;32m    424\u001b[0m \u001b[39mtry\u001b[39;00m:\n\u001b[1;32m--> 425\u001b[0m     output \u001b[39m=\u001b[39m _run(java_options, tabula_options, path, encoding)\n\u001b[0;32m    426\u001b[0m \u001b[39mfinally\u001b[39;00m:\n\u001b[0;32m    427\u001b[0m     \u001b[39mif\u001b[39;00m temporary:\n",
      "File \u001b[1;32mc:\\Users\\evan\\AppData\\Local\\Programs\\Python\\Python310\\lib\\site-packages\\tabula\\io.py:88\u001b[0m, in \u001b[0;36m_run\u001b[1;34m(java_options, options, path, encoding)\u001b[0m\n\u001b[0;32m     85\u001b[0m     args\u001b[39m.\u001b[39mappend(path)\n\u001b[0;32m     87\u001b[0m \u001b[39mtry\u001b[39;00m:\n\u001b[1;32m---> 88\u001b[0m     result \u001b[39m=\u001b[39m subprocess\u001b[39m.\u001b[39;49mrun(\n\u001b[0;32m     89\u001b[0m         args,\n\u001b[0;32m     90\u001b[0m         stdout\u001b[39m=\u001b[39;49msubprocess\u001b[39m.\u001b[39;49mPIPE,\n\u001b[0;32m     91\u001b[0m         stderr\u001b[39m=\u001b[39;49msubprocess\u001b[39m.\u001b[39;49mPIPE,\n\u001b[0;32m     92\u001b[0m         stdin\u001b[39m=\u001b[39;49msubprocess\u001b[39m.\u001b[39;49mDEVNULL,\n\u001b[0;32m     93\u001b[0m         check\u001b[39m=\u001b[39;49m\u001b[39mTrue\u001b[39;49;00m,\n\u001b[0;32m     94\u001b[0m     )\n\u001b[0;32m     95\u001b[0m     \u001b[39mif\u001b[39;00m result\u001b[39m.\u001b[39mstderr:\n\u001b[0;32m     96\u001b[0m         logger\u001b[39m.\u001b[39mwarning(\u001b[39mf\u001b[39m\u001b[39m\"\u001b[39m\u001b[39mGot stderr: \u001b[39m\u001b[39m{\u001b[39;00mresult\u001b[39m.\u001b[39mstderr\u001b[39m.\u001b[39mdecode(encoding)\u001b[39m}\u001b[39;00m\u001b[39m\"\u001b[39m)\n",
      "File \u001b[1;32mc:\\Users\\evan\\AppData\\Local\\Programs\\Python\\Python310\\lib\\subprocess.py:524\u001b[0m, in \u001b[0;36mrun\u001b[1;34m(input, capture_output, timeout, check, *popenargs, **kwargs)\u001b[0m\n\u001b[0;32m    522\u001b[0m     retcode \u001b[39m=\u001b[39m process\u001b[39m.\u001b[39mpoll()\n\u001b[0;32m    523\u001b[0m     \u001b[39mif\u001b[39;00m check \u001b[39mand\u001b[39;00m retcode:\n\u001b[1;32m--> 524\u001b[0m         \u001b[39mraise\u001b[39;00m CalledProcessError(retcode, process\u001b[39m.\u001b[39margs,\n\u001b[0;32m    525\u001b[0m                                  output\u001b[39m=\u001b[39mstdout, stderr\u001b[39m=\u001b[39mstderr)\n\u001b[0;32m    526\u001b[0m \u001b[39mreturn\u001b[39;00m CompletedProcess(process\u001b[39m.\u001b[39margs, retcode, stdout, stderr)\n",
      "\u001b[1;31mCalledProcessError\u001b[0m: Command '['java', '-Dfile.encoding=UTF8', '-jar', 'c:\\\\Users\\\\evan\\\\AppData\\\\Local\\\\Programs\\\\Python\\\\Python310\\\\lib\\\\site-packages\\\\tabula\\\\tabula-1.0.5-jar-with-dependencies.jar', '--pages', '53-72', '--guess', '--format', 'JSON', './pdfs/2002.pdf']' returned non-zero exit status 1."
     ]
    }
   ],
   "source": [
    "import re\n",
    "import tabula\n",
    "\n",
    "pdf_path = \"./pdfs/2002.pdf\"\n",
    "\n",
    "# Read PDF and extract tables from pages 26 to 41\n",
    "tables = tabula.read_pdf(pdf_path, pages='53-72', multiple_tables=True, stream=False)\n",
    "\n",
    "# Save tables to a text file\n",
    "output_file = \"./2002.txt\"\n",
    "with open(output_file, 'w', encoding='utf-8') as file:\n",
    "    for table in tables:\n",
    "        for row in table.itertuples(index=False):\n",
    "            cleaned_row = []\n",
    "            for cell in row:\n",
    "                if isinstance(cell, str):\n",
    "                    cleaned_cell = ' '.join(cell.split())\n",
    "                    cleaned_row.append(cleaned_cell)\n",
    "                else:\n",
    "                    cleaned_row.append(cell)\n",
    "            csv_contents = '\\t'.join(map(str, cleaned_row)) + '\\n'\n",
    "            \n",
    "            # Apply regex pattern to each row\n",
    "            pattern = r'^(.*?),\"([^\"]+)\",.*?,((?:\\d+\\.?\\d*|),(?:\\d+\\.?\\d*|),(?:\\d+\\.?\\d*|),)'\n",
    "            matches = re.findall(pattern, csv_contents, re.MULTILINE)\n",
    "            \n",
    "            if matches:\n",
    "                # If matches are found, write them to the file\n",
    "                for match in matches:\n",
    "                    file.write('\\t'.join(match) + '\\n')\n",
    "            else:\n",
    "                # If no matches are found, write the original row to the file\n",
    "                file.write(csv_contents)\n"
   ]
  }
 ],
 "metadata": {
  "kernelspec": {
   "display_name": "Python 3",
   "language": "python",
   "name": "python3"
  },
  "language_info": {
   "codemirror_mode": {
    "name": "ipython",
    "version": 3
   },
   "file_extension": ".py",
   "mimetype": "text/x-python",
   "name": "python",
   "nbconvert_exporter": "python",
   "pygments_lexer": "ipython3",
   "version": "3.10.4"
  },
  "orig_nbformat": 4
 },
 "nbformat": 4,
 "nbformat_minor": 2
}
